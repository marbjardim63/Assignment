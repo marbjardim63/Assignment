{
 "cells": [
  {
   "cell_type": "markdown",
   "id": "3167fbca",
   "metadata": {},
   "source": [
    "# Data Science Tools and Ecosystems "
   ]
  },
  {
   "cell_type": "markdown",
   "id": "28b04f6c",
   "metadata": {},
   "source": [
    "# Data Science Tools and Ecosystems are summarized ."
   ]
  },
  {
   "cell_type": "markdown",
   "id": "04d6553d",
   "metadata": {},
   "source": [
    "_Objectives_"
   ]
  },
  {
   "cell_type": "markdown",
   "id": "b75a8a23",
   "metadata": {},
   "source": [
    "+ Learn popular languages for Data Science\n",
    "+ Open Source Development Environment \n",
    "+ Programing Simple Arithmetic Expressions in Python \n",
    "+ Use Jupyter and GitHub "
   ]
  },
  {
   "cell_type": "markdown",
   "id": "2ccbf8f7",
   "metadata": {},
   "source": [
    "# Some of the popular languages that Data Science use are :"
   ]
  },
  {
   "cell_type": "markdown",
   "id": "f348deb1",
   "metadata": {},
   "source": [
    " 1. Python\n",
    " 2. R\n",
    " 3.Julia\n",
    " 4. Scala\n",
    " 5. Java\n",
    " 6. C+\n",
    " 7. Ruby \n",
    " 8. VisualBasic"
   ]
  },
  {
   "cell_type": "markdown",
   "id": "ed8e742b",
   "metadata": {},
   "source": [
    "# Some common used libraries used by Data Scientists include :"
   ]
  },
  {
   "cell_type": "markdown",
   "id": "446fd7ea",
   "metadata": {},
   "source": [
    "1. Seaborn\n",
    "2. Pandas\n",
    "3. NumPy\n",
    "4. matplotlib"
   ]
  },
  {
   "cell_type": "markdown",
   "id": "f188b36d",
   "metadata": {},
   "source": [
    "|Data Science Tolls |\n",
    "|-------------------|\n",
    "| JupyterNotebooks |\n",
    "| RStudios |\n",
    "|JupyterLite |\n"
   ]
  },
  {
   "cell_type": "markdown",
   "id": "e7bb1151",
   "metadata": {},
   "source": [
    "### Below are few examples of evaluating arithmetics expressions in Python "
   ]
  },
  {
   "cell_type": "code",
   "execution_count": 1,
   "id": "8de2da38",
   "metadata": {},
   "outputs": [
    {
     "data": {
      "text/plain": [
       "17"
      ]
     },
     "execution_count": 1,
     "metadata": {},
     "output_type": "execute_result"
    }
   ],
   "source": [
    "(3*4)+5"
   ]
  },
  {
   "cell_type": "code",
   "execution_count": 2,
   "id": "7953dd84",
   "metadata": {},
   "outputs": [
    {
     "data": {
      "text/plain": [
       "3.3333333333333335"
      ]
     },
     "execution_count": 2,
     "metadata": {},
     "output_type": "execute_result"
    }
   ],
   "source": [
    "# This will convert 200 minutes to hours by dividing by 60\n",
    "(200/60)"
   ]
  },
  {
   "cell_type": "markdown",
   "id": "cfecd0db",
   "metadata": {},
   "source": [
    "## Author\n",
    "# Marcelo Jardim"
   ]
  },
  {
   "cell_type": "code",
   "execution_count": null,
   "id": "cc22e647",
   "metadata": {},
   "outputs": [],
   "source": []
  }
 ],
 "metadata": {
  "kernelspec": {
   "display_name": "Python 3 (ipykernel)",
   "language": "python",
   "name": "python3"
  },
  "language_info": {
   "codemirror_mode": {
    "name": "ipython",
    "version": 3
   },
   "file_extension": ".py",
   "mimetype": "text/x-python",
   "name": "python",
   "nbconvert_exporter": "python",
   "pygments_lexer": "ipython3",
   "version": "3.11.3"
  }
 },
 "nbformat": 4,
 "nbformat_minor": 5
}
